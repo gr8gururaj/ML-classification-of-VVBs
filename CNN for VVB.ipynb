{
 "cells": [
  {
   "cell_type": "markdown",
   "metadata": {
    "toc": true
   },
   "source": [
    "<h1>Table of Contents<span class=\"tocSkip\"></span></h1>\n",
    "<div class=\"toc\"><ul class=\"toc-item\"><li><span><a href=\"#Compiling-and-training-the-network\" data-toc-modified-id=\"Compiling-and-training-the-network-1\"><span class=\"toc-item-num\">1&nbsp;&nbsp;</span>Compiling and training the network</a></span></li><li><span><a href=\"#Making-new-predictions\" data-toc-modified-id=\"Making-new-predictions-2\"><span class=\"toc-item-num\">2&nbsp;&nbsp;</span>Making new predictions</a></span><ul class=\"toc-item\"><li><span><a href=\"#Map-classes-----&gt;-(m1,-m2)\" data-toc-modified-id=\"Map-classes----->-(m1,-m2)-2.1\"><span class=\"toc-item-num\">2.1&nbsp;&nbsp;</span>Map classes ----&gt; (m1, m2)</a></span><ul class=\"toc-item\"><li><span><a href=\"#Training-and-validation-tests\" data-toc-modified-id=\"Training-and-validation-tests-2.1.1\"><span class=\"toc-item-num\">2.1.1&nbsp;&nbsp;</span>Training and validation tests</a></span></li><li><span><a href=\"#others_exp_pictures\" data-toc-modified-id=\"others_exp_pictures-2.1.2\"><span class=\"toc-item-num\">2.1.2&nbsp;&nbsp;</span>others_exp_pictures</a></span></li></ul></li></ul></li></ul></div>"
   ]
  },
  {
   "cell_type": "code",
   "execution_count": 69,
   "metadata": {
    "ExecuteTime": {
     "end_time": "2019-03-19T17:27:49.173934Z",
     "start_time": "2019-03-19T17:27:45.067973Z"
    },
    "colab": {},
    "colab_type": "code",
    "id": "OEsaFcd3blxL"
   },
   "outputs": [],
   "source": [
    "import sys\n",
    "import os\n",
    "\n",
    "from keras.models import Sequential\n",
    "from keras.layers import Conv2D\n",
    "from keras.layers import MaxPooling2D\n",
    "from keras.layers import Flatten\n",
    "from keras.layers import Dense\n",
    "from keras.layers import Dropout\n",
    "import matplotlib.pyplot as plt\n",
    "import seaborn as sns\n",
    "import numpy as np\n",
    "\n",
    "if './src' not in sys.path:\n",
    "    sys.path.append('./src')\n",
    "import src.vector_vortex_beams as VVB\n",
    "\n",
    "%matplotlib inline\n",
    "%load_ext autoreload\n",
    "%autoreload 2"
   ]
  },
  {
   "cell_type": "markdown",
   "metadata": {
    "colab_type": "text",
    "id": "6kMVQIRQblxP"
   },
   "source": [
    "## Compiling and training the network"
   ]
  },
  {
   "cell_type": "code",
   "execution_count": 59,
   "metadata": {
    "ExecuteTime": {
     "end_time": "2019-03-19T16:54:59.592064Z",
     "start_time": "2019-03-19T16:54:59.424177Z"
    },
    "colab": {},
    "colab_type": "code",
    "id": "j631RqSxblxP"
   },
   "outputs": [],
   "source": [
    "# del classifier\n",
    "#sizeX=1024\n",
    "#sizeY=768\n",
    "\n",
    "num_classes = 15\n",
    "\n",
    "# Initialising the CNN\n",
    "classifier = Sequential()\n",
    "# Step 1 - Convolution\n",
    "classifier.add(Conv2D(32, (3, 3), input_shape = (128, 128, 3), activation = 'relu'))\n",
    "# Step 2 - Pooling\n",
    "classifier.add(MaxPooling2D(pool_size = (2, 2)))\n",
    "# Adding a second convolutional layer\n",
    "classifier.add(Conv2D(32, (3, 3), activation = 'relu'))\n",
    "classifier.add(MaxPooling2D(pool_size=(2, 2)))\n",
    "# Adding a third convolutional layer\n",
    "classifier.add(Conv2D(32, (3, 3), activation = 'relu'))\n",
    "classifier.add(MaxPooling2D(pool_size=(2, 2)))\n",
    "# Adding a fourth convolutional layer\n",
    "#classifier.add(Conv2D(32, (3, 3), activation = 'relu'))\n",
    "#classifier.add(MaxPooling2D(pool_size = (2, 2)))\n",
    "# Step 3 - Flattening\n",
    "classifier.add(Flatten())\n",
    "# Step 4 - Full connection\n",
    "classifier.add(Dense(units = 128, activation = 'relu'))\n",
    "classifier.add(Dense(units=num_classes, activation='softmax'))#sigmoid\n",
    "# Compiling the CNN for classification problem\n",
    "classifier.compile(optimizer = 'adam', loss = 'categorical_crossentropy', metrics = ['accuracy'])#binary_crossentropy"
   ]
  },
  {
   "cell_type": "code",
   "execution_count": 62,
   "metadata": {
    "ExecuteTime": {
     "end_time": "2019-03-19T17:07:25.145332Z",
     "start_time": "2019-03-19T16:55:32.861023Z"
    },
    "colab": {},
    "colab_type": "code",
    "id": "qdoAT5G_blxT",
    "outputId": "730c7640-0a24-4873-f47d-0fd4fa0c67a1"
   },
   "outputs": [
    {
     "name": "stdout",
     "output_type": "stream",
     "text": [
      "Found 6057 images belonging to 15 classes.\n",
      "Found 4210 images belonging to 15 classes.\n",
      "Epoch 1/5\n",
      "200/200 [==============================] - 148s 739ms/step - loss: 0.9005 - acc: 0.6523 - val_loss: 0.1115 - val_acc: 0.9672\n",
      "Epoch 2/5\n",
      "200/200 [==============================] - 140s 701ms/step - loss: 0.0395 - acc: 0.9898 - val_loss: 0.0114 - val_acc: 0.9975\n",
      "Epoch 3/5\n",
      "200/200 [==============================] - 140s 699ms/step - loss: 0.0757 - acc: 0.9759 - val_loss: 0.0186 - val_acc: 0.9975\n",
      "Epoch 4/5\n",
      "200/200 [==============================] - 141s 707ms/step - loss: 0.0018 - acc: 1.0000 - val_loss: 0.0147 - val_acc: 0.9975\n",
      "Epoch 5/5\n",
      "200/200 [==============================] - 141s 707ms/step - loss: 5.3339e-04 - acc: 1.0000 - val_loss: 0.0168 - val_acc: 0.9975\n"
     ]
    }
   ],
   "source": [
    "from keras.preprocessing.image import ImageDataGenerator\n",
    "\n",
    "train_datagen = ImageDataGenerator(\n",
    "    rescale=1/255, shear_range=0.2, zoom_range=0.2, horizontal_flip=True\n",
    ")\n",
    "\n",
    "test_datagen = ImageDataGenerator(rescale=1/255)\n",
    "\n",
    "training_set = train_datagen.flow_from_directory(\n",
    "    './data/simulated 15 classes/training_set_balls_red',\n",
    "    target_size=(128, 128), batch_size=32, class_mode='categorical'\n",
    ")\n",
    "\n",
    "test_set = test_datagen.flow_from_directory(\n",
    "    './data/simulated 15 classes/test_set_balls_red',\n",
    "    target_size=(128, 128), batch_size=32, class_mode='categorical'\n",
    ")\n",
    "\n",
    "h = classifier.fit_generator(\n",
    "    training_set, steps_per_epoch=200,  # 8000\n",
    "    epochs=5, validation_data=test_set, validation_steps=100  # 2000 steps\n",
    ")\n"
   ]
  },
  {
   "cell_type": "code",
   "execution_count": 70,
   "metadata": {
    "ExecuteTime": {
     "end_time": "2019-03-19T17:27:50.939627Z",
     "start_time": "2019-03-19T17:27:50.317616Z"
    }
   },
   "outputs": [
    {
     "data": {
      "text/plain": [
       "<matplotlib.image.AxesImage at 0x7fe7981b0b38>"
      ]
     },
     "execution_count": 70,
     "metadata": {},
     "output_type": "execute_result"
    },
    {
     "data": {
      "image/png": "[encoded data removed]",
      "text/plain": [
       "<matplotlib.figure.Figure at 0x7fe7ee5e2da0>"
      ]
     },
     "metadata": {},
     "output_type": "display_data"
    }
   ],
   "source": [
    "plt.figure()\n",
    "plt.imshow(training_set[0][0][0][:, :, 0])"
   ]
  },
  {
   "cell_type": "code",
   "execution_count": 31,
   "metadata": {
    "ExecuteTime": {
     "end_time": "2019-03-19T13:03:08.799522Z",
     "start_time": "2019-03-19T13:03:08.790284Z"
    }
   },
   "outputs": [
    {
     "data": {
      "text/plain": [
       "{'acc': [1.0, 1.0, 1.0, 1.0, 1.0],\n",
       " 'loss': [0.00012581910353256368,\n",
       "  0.00010160235668556939,\n",
       "  0.0001114428246933697,\n",
       "  6.2799315565435605e-05,\n",
       "  5.0640735342570123e-05],\n",
       " 'val_acc': [0.99812500000000004,\n",
       "  0.99812500000000004,\n",
       "  0.99812500000000004,\n",
       "  0.99812500000000004,\n",
       "  0.99812500000000004],\n",
       " 'val_loss': [0.01574252773471926,\n",
       "  0.015447940422664033,\n",
       "  0.014628414803501072,\n",
       "  0.013816088490907532,\n",
       "  0.014428589432220633]}"
      ]
     },
     "execution_count": 31,
     "metadata": {},
     "output_type": "execute_result"
    }
   ],
   "source": [
    "classifier.predict()"
   ]
  },
  {
   "cell_type": "code",
   "execution_count": 0,
   "metadata": {
    "colab": {},
    "colab_type": "code",
    "id": "D1vd5CE-blxY"
   },
   "outputs": [],
   "source": [
    "pathForModels=''\n",
    "classifier.save(pathForModels+'model_name.h') \n",
    "del classifier"
   ]
  },
  {
   "cell_type": "markdown",
   "metadata": {
    "colab_type": "text",
    "id": "68eNHJsRblxa"
   },
   "source": [
    "## Making new predictions"
   ]
  },
  {
   "cell_type": "markdown",
   "metadata": {
    "colab_type": "text",
    "id": "lhm2Nxr6blxb"
   },
   "source": [
    "### Map classes ----> (m1, m2)"
   ]
  },
  {
   "cell_type": "markdown",
   "metadata": {
    "colab_type": "text",
    "id": "Qu7V9vQ4blxc"
   },
   "source": [
    "#### Training and validation tests\n",
    "\n",
    "###### c1 --- (-1,1)\n",
    "###### c2 --- (-3,3)\n",
    "###### c3 --- (-5,5)\n",
    "###### c4 --- (-5,-3)\n",
    "###### c5 --- (-5,-1)\n",
    "###### c6 --- (-5,1)\n",
    "###### c7 --- (-5,3)\n",
    "###### c8 --- (-3,-1)\n",
    "###### c9 --- (-3,1)\n",
    "###### c10 --- (-3,5)\n",
    "###### c11 --- (-1,3)\n",
    "###### c12 --- (-1,5)\n",
    "###### c13 --- (1,3)\n",
    "###### c14 --- (1,5)\n",
    "###### c15 --- (3,5)"
   ]
  },
  {
   "cell_type": "markdown",
   "metadata": {
    "colab_type": "text",
    "id": "57F7whkfblxe"
   },
   "source": [
    "#### others_exp_pictures\n",
    "\n",
    "###### c1 --- (-5,-3)\n",
    "###### c2 --- (-5,-1)\n",
    "###### c3 --- (-5,1)\n",
    "###### c4 --- (-5,3)\n",
    "###### c5 --- (-5, 5)\n",
    "###### c6 --- (-3,-1)\n",
    "###### c7 --- (-3,1)\n",
    "###### c8 --- (-3,-3)\n",
    "###### c9 --- (-3,5)\n",
    "###### c10 --- (-1,1)\n",
    "###### c11 --- (-1,3)\n",
    "###### c12 --- (-1,5)\n",
    "###### c13 --- (1,3)\n",
    "###### c14 --- (1,5)\n",
    "###### c15 --- (3,5)"
   ]
  },
  {
   "cell_type": "code",
   "execution_count": 0,
   "metadata": {
    "colab": {},
    "colab_type": "code",
    "id": "CJMZdKQXblxe"
   },
   "outputs": [],
   "source": [
    "from keras.models import load_model\n",
    "pathForModels=''\n",
    "my_model = load_model(pathForModels+'model_name.h')"
   ]
  },
  {
   "cell_type": "code",
   "execution_count": 0,
   "metadata": {
    "colab": {},
    "colab_type": "code",
    "id": "LgcMcQdxblxh"
   },
   "outputs": [],
   "source": [
    "\n",
    "# true table\n",
    "\n",
    "from keras.preprocessing import image\n",
    "n_classes=15\n",
    "sum_result=np.zeros(n_classes)\n",
    "true_table=np.zeros(shape=(n_classes, n_classes))\n",
    "\n",
    "path=''\n",
    "for j in range(n_classes):\n",
    "    n_images = 100\n",
    "    temp_result=np.zeros((n_images,n_classes))\n",
    "    for i in range(n_images):\n",
    "        test_image = image.load_img(path+'c'+str(j+1)+'/c'+str(j+1)+'_ ('+str(i+1)+').jpeg', \n",
    "                                    target_size = (128, 128))\n",
    "        test_image = image.img_to_array(test_image)\n",
    "        test_image = np.expand_dims(test_image, axis = 0)\n",
    "\n",
    "        temp_result[i] = np.array(my_model.predict(test_image))\n",
    "        \n",
    "        #sorting the components \n",
    "        temp_result[i] = np.array([temp_result[i,9],temp_result[i,10],temp_result[i,11],\n",
    "                                   temp_result[i,12],temp_result[i,8],\n",
    "                                  temp_result[i,13],temp_result[i,14],temp_result[i,7],\n",
    "                                   temp_result[i,1],temp_result[i,0],\n",
    "                                  temp_result[i,2],temp_result[i,3],temp_result[i,4],\n",
    "                                   temp_result[i,5],temp_result[i,6]])\n",
    "    \n",
    "    sum_result=np.sum(temp_result,0)\n",
    "    true_table[j]=sum_result/np.sum(sum_result)\n"
   ]
  },
  {
   "cell_type": "code",
   "execution_count": 0,
   "metadata": {
    "colab": {},
    "colab_type": "code",
    "id": "4yaibbgPblxj",
    "outputId": "9ff5bba1-b466-48a5-89a8-51d530bb6bdd"
   },
   "outputs": [
    {
     "data": {
      "image/png": "[encoded data removed]",
      "text/plain": [
       "<matplotlib.figure.Figure at 0x1b16913ba90>"
      ]
     },
     "metadata": {
      "tags": []
     },
     "output_type": "display_data"
    }
   ],
   "source": [
    "plt.rcParams.update({'font.size': 14})\n",
    "plt.imshow(true_table )\n",
    "plt.colorbar()\n",
    "plt.yticks(np.arange(0,15,1),[\"(-5,-3)\",\"(-5,-1)\",\"(-5,1)\",\"(-5,3)\",\"(-5,5)\",\"(-3,-1)\",\n",
    "                             \"(-3,1)\",\"(-3,3)\",\"(-3,5)\",\"(-1,1)\",\"(-1,3)\",\"(-1,5)\",\"(1,3)\"\n",
    "                             ,\"(1,5)\",\"(3,5)\"])\n",
    "plt.xticks(np.arange(0,15,1),[\"(-5,-3)\",\"(-5,-1)\",\"(-5,1)\",\"(-5,3)\",\"(-5,5)\",\"(-3,-1)\",\n",
    "                             \"(-3,1)\",\"(-3,3)\",\"(-3,5)\",\"(-1,1)\",\"(-1,3)\",\"(-1,5)\",\"(1,3)\"\n",
    "                             ,\"(1,5)\",\"(3,5)\"],rotation='vertical')\n",
    "plt.margins(0)\n",
    "# Tweak spacing to prevent clipping of tick-labels\n",
    "plt.subplots_adjust(bottom=0.2)\n",
    "#plt.savefig(\"table_test_set_exp.pdf\")\n",
    "plt.show()\n"
   ]
  },
  {
   "cell_type": "code",
   "execution_count": 0,
   "metadata": {
    "colab": {},
    "colab_type": "code",
    "id": "0LwlckuZblxm"
   },
   "outputs": [],
   "source": []
  }
 ],
 "metadata": {
  "colab": {
   "name": "CNN for VVB.ipynb",
   "provenance": [],
   "version": "0.3.2"
  },
  "kernelspec": {
   "display_name": "Python [conda env:theano]",
   "language": "python",
   "name": "conda-env-theano-py"
  },
  "language_info": {
   "codemirror_mode": {
    "name": "ipython",
    "version": 3
   },
   "file_extension": ".py",
   "mimetype": "text/x-python",
   "name": "python",
   "nbconvert_exporter": "python",
   "pygments_lexer": "ipython3",
   "version": "3.6.4"
  },
  "toc": {
   "base_numbering": 1,
   "nav_menu": {},
   "number_sections": true,
   "sideBar": true,
   "skip_h1_title": false,
   "title_cell": "Table of Contents",
   "title_sidebar": "Contents",
   "toc_cell": true,
   "toc_position": {},
   "toc_section_display": true,
   "toc_window_display": false
  }
 },
 "nbformat": 4,
 "nbformat_minor": 1
}
